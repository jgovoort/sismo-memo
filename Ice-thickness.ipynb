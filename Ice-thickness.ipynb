{
 "cells": [
  {
   "cell_type": "markdown",
   "id": "f38b06f6",
   "metadata": {},
   "source": [
    "# Determining the Ice thickness of Vatnajokull based on H/V spectral ratio"
   ]
  },
  {
   "cell_type": "code",
   "execution_count": null,
   "id": "7b236db2",
   "metadata": {},
   "outputs": [],
   "source": [
    "import csv\n",
    "import pandas as pd\n",
    "import matplotlib.pyplot as plt\n",
    "import numpy as np\n",
    "import datetime"
   ]
  },
  {
   "cell_type": "code",
   "execution_count": null,
   "id": "b6c112d7-9a23-4987-aa96-9bfc0483d54f",
   "metadata": {},
   "outputs": [],
   "source": [
    "from normalize import normalize"
   ]
  },
  {
   "cell_type": "code",
   "execution_count": null,
   "id": "cf46c6f6",
   "metadata": {},
   "outputs": [],
   "source": [
    "root = \"D:\\MEMOIRE\\Ice_thickness\"\n",
    "alt_glacier = '\\point_altitude_glacier\\point_altitude_glacier.csv'\n",
    "station = \"\\lt_nodes_ablation_lambert.csv\"\n",
    "hvsr_fold = \"D:\\MEMOIRE\\Geopsy_res\\DATE_7_12\""
   ]
  },
  {
   "cell_type": "code",
   "execution_count": null,
   "id": "57b5bfeb",
   "metadata": {},
   "outputs": [],
   "source": [
    "with open(root+alt_glacier) as file :\n",
    "    glac_alt = []\n",
    "    pos = []\n",
    "    line = 0\n",
    "    readcsv = csv.reader(file, delimiter=',')\n",
    "    for row in readcsv :\n",
    "        if line > 0 :\n",
    "            glac_alt.append(float(row[-1]))\n",
    "            pos.append(float(row[3])/1000)\n",
    "        line += 1\n",
    "print(len(pos))\n",
    "print(len(glac_alt))"
   ]
  },
  {
   "cell_type": "code",
   "execution_count": null,
   "id": "d41db371",
   "metadata": {},
   "outputs": [],
   "source": [
    "filepath = root+station\n",
    "print(filepath)\n",
    "with open(filepath) as file :\n",
    "    stt = []\n",
    "    readcsv = csv.reader(file, delimiter=',')\n",
    "    i = 0\n",
    "    line = 0\n",
    "    for row in readcsv :\n",
    "        if line > 0 :\n",
    "            stt.append([row[1]])\n",
    "            stt[i].extend(row[4:7])\n",
    "            i += 1\n",
    "        line += 1\n",
    "        \n",
    "def sortThird(val):\n",
    "    return val[2]\n",
    "stt.sort(key=sortThird)\n",
    "\n",
    "node_alt = []\n",
    "name_station = []\n",
    "for line in stt :\n",
    "    node_alt.append(float(line[3]))\n",
    "    name_station.append(line[0])\n",
    "\n",
    "print(len(node_alt))"
   ]
  },
  {
   "cell_type": "code",
   "execution_count": null,
   "id": "6c49e448-3b52-4b6a-918f-06481ca70920",
   "metadata": {},
   "outputs": [],
   "source": [
    "stt"
   ]
  },
  {
   "cell_type": "code",
   "execution_count": null,
   "id": "cd321306",
   "metadata": {},
   "outputs": [],
   "source": [
    "def distance_station(stt) :\n",
    "    DIST_orign = [0]\n",
    "    for i in range(1,len(stt)) :\n",
    "        diff_X = float(stt[i][1]) - float(stt[i-1][1])\n",
    "        diff_Y = float(stt[i][2]) - float(stt[i-1][2])\n",
    "        dist = (diff_X**2+diff_Y**2)**(1/2)\n",
    "        DIST_orign.append((DIST_orign[i-1]*1000+dist)/1000)\n",
    "    return DIST_orign\n",
    "DIST = distance_station(stt)\n",
    "print(len(DIST))\n",
    "#print(DIST)"
   ]
  },
  {
   "cell_type": "code",
   "execution_count": null,
   "id": "27de71dc",
   "metadata": {},
   "outputs": [],
   "source": [
    "print(name_station)"
   ]
  },
  {
   "cell_type": "markdown",
   "id": "8c399021",
   "metadata": {},
   "source": [
    "###### La oldest ice : Qu'est-ce que c'est ? partir sur où on la trouve, comment on la trouve et quel est l'intéret."
   ]
  },
  {
   "cell_type": "code",
   "execution_count": null,
   "id": "3f7862d2",
   "metadata": {},
   "outputs": [],
   "source": [
    "F0 = []\n",
    "vs = 1900\n",
    "H = []\n",
    "\n",
    "YERRORHIGH = []\n",
    "YERRORLOW = []\n",
    "YERROR = []\n",
    "\n",
    "FREQ = []\n",
    "AMP_AVE = []\n",
    "\n",
    "for nme_stt in name_station :   \n",
    "    filepath = hvsr_fold+'\\SS_'+ nme_stt +'.hv'\n",
    "    print(filepath)\n",
    "    line = 0\n",
    "    with open(filepath) as file :\n",
    "        tmpFREQ = []\n",
    "        tmpAMP_AVE = []\n",
    "        readcsv = csv.reader(file, delimiter='\\t')\n",
    "        for row in readcsv :\n",
    "            line += 1\n",
    "            if line == 5 :\n",
    "                #print(row)\n",
    "                f0 = float(row[1]) #extracting the f0 in the hv file\n",
    "                #print(row[2])\n",
    "                F0.append(f0)\n",
    "                h = vs/(4.0*f0) #calculation of ice thickness\n",
    "                H.append(h) #save ice thickness in a list\n",
    "                yhigh = vs/(4.0*(float(row[3]))) #calculate the standart deviation of f0\n",
    "                ylow = vs/(4.0*(float(row[2])))\n",
    "                YERRORHIGH.append(h-yhigh)\n",
    "                YERRORLOW.append(ylow-h)\n",
    "            if line >= 10 and float(row[0]) >= 0.5  :\n",
    "                tmpFREQ.append(float(row[0]))\n",
    "                tmpAMP_AVE.append(float(row[1]))\n",
    "    FREQ.append(np.array(tmpFREQ))\n",
    "    AMP_AVE.append(np.array(tmpAMP_AVE))\n",
    "\n",
    "FREQ = np.array(FREQ, dtype=object)\n",
    "AMP_AVE = np.array(AMP_AVE, dtype=object)\n",
    "\n",
    "BED_ALT = np.subtract(node_alt, H)\n",
    "XERROR = ((vs/4)*np.power(F0, -1))/1000 #Lambda/4 where lambda = Vs/f0\n",
    "#YERRORHIGH = 10*np.array(YERRORHIGH)\n",
    "YERROR.append(YERRORLOW)\n",
    "YERROR.append(YERRORHIGH)\n",
    "#print(F0)\n",
    "#print(H)\n",
    "#print(BED_ALT)\n",
    "#print(XERROR)\n",
    "#print(YERROR)"
   ]
  },
  {
   "cell_type": "code",
   "execution_count": null,
   "id": "afc28ce0-5efe-4841-b0c8-bf4c52b585f0",
   "metadata": {},
   "outputs": [],
   "source": [
    "fig = plt.figure(figsize=(10,5))\n",
    "for i in range(len(FREQ)) :\n",
    "    plt.plot(FREQ[i], AMP_AVE[i], label='SS_'+str(name_station[i]))\n",
    "plt.legend()\n",
    "plt.savefig('plot_ice_thick/HVCurve.png')\n",
    "plt.show()"
   ]
  },
  {
   "cell_type": "code",
   "execution_count": null,
   "id": "ba2dd6b3",
   "metadata": {
    "scrolled": true
   },
   "outputs": [],
   "source": [
    "plt.figure(figsize=(15, 5), dpi=300)\n",
    "plt.scatter(DIST, node_alt, s=70 , c='green', marker='v', label = 'Nodes position')\n",
    "#plt.scatter(DIST, BED_ALT, s=60, c='red',marker='o')\n",
    "plt.plot(pos, glac_alt, label = 'Glacier surface altitude')\n",
    "plt.errorbar(DIST,BED_ALT,xerr = XERROR, yerr = YERROR, linestyle='None', ecolor= 'red', capsize=2, capthick=2, label = 'Bedrock altitude determined with HVSR')\n",
    "for i in range(len(DIST)) :\n",
    "    plt.text(DIST[i],node_alt[i]-50,'SS_'+name_station[i])\n",
    "plt.xlabel('Distance from the first node (Km)')\n",
    "plt.ylabel('Altitude (m)')\n",
    "plt.legend()\n",
    "plt.savefig('plot_ice_thick/ice_thickness.png')\n",
    "plt.show()"
   ]
  },
  {
   "cell_type": "code",
   "execution_count": null,
   "id": "3e6577f0-f0e9-429b-8150-d20d2b34aef4",
   "metadata": {},
   "outputs": [],
   "source": [
    "plt.figure(figsize=(17, 5), dpi=300)\n",
    "\n",
    "for i in range(len(FREQ)) :\n",
    "    L0 = [DIST[i]]*len(FREQ[i])\n",
    "    L01 = L0 - ((vs/4)*np.power(FREQ[i], -1))/1000\n",
    "    L1 = L0 + ((vs/4)*np.power(FREQ[i], -1))/1000\n",
    "    L = []\n",
    "    L.append(L01)\n",
    "    L.append(L0)\n",
    "    L.append(L1)\n",
    "    L = np.array(L)\n",
    "    \n",
    "    HTOT = 1900/(4*np.array(FREQ[i]))\n",
    "    HTOT = node_alt[i] - HTOT\n",
    "    \n",
    "    testFREQ = []\n",
    "    testFREQ.append(HTOT)\n",
    "    testFREQ.append(HTOT)\n",
    "    testFREQ.append(HTOT)\n",
    "    testFREQ = np.array(testFREQ)\n",
    "\n",
    "    testAMP = []\n",
    "    testAMP.append(AMP_AVE[i])\n",
    "    testAMP.append(AMP_AVE[i])\n",
    "    testAMP.append(AMP_AVE[i])\n",
    "    testAMP = np.array(testAMP)\n",
    "    plt.ylim(0,1600)\n",
    "    plt.contourf(L, testFREQ, testAMP, 100)\n",
    "   \n",
    "plt.colorbar(label = \"Amplitude H/V\")\n",
    "plt.scatter(DIST, node_alt, s=70 , c='green', marker='v', label = 'Nodes position')\n",
    "plt.plot(pos, glac_alt, label = 'Glacier surface altitude')\n",
    "plt.scatter(DIST, BED_ALT, s=10, c='red',marker='o')\n",
    "#plt.errorbar(DIST,BED_ALT,xerr = XERROR, yerr = YERROR, linestyle='None', ecolor= 'red', capsize=2, capthick=2, label = 'Bedrock altitude determined with HVSR')\n",
    "for i in range(len(DIST)) :\n",
    "    plt.text(DIST[i],node_alt[i]-50,'SS_'+name_station[i])\n",
    "plt.xlabel('Distance from the first node (Km)')\n",
    "plt.ylabel('Altitude (m)')\n",
    "plt.savefig('plot_ice_thick/HVintensity_ice_thickness.png')\n",
    "plt.show()\n"
   ]
  },
  {
   "cell_type": "markdown",
   "id": "cc228c0f-1845-417b-a832-abdf3490d796",
   "metadata": {
    "tags": []
   },
   "source": [
    "## Automated HVSR computing with hvsrpy module\n",
    "\n",
    "Credit : https://github.com/jpvantassel/hvsrpy/blob/main/examples/simple_hvsrpy_interface.ipynb"
   ]
  },
  {
   "cell_type": "code",
   "execution_count": null,
   "id": "468a62ea-c1f7-4f9a-8b10-57a5ad826b48",
   "metadata": {},
   "outputs": [],
   "source": [
    "import hvsrpy\n",
    "import obspy\n",
    "import time\n",
    "import datetime"
   ]
  },
  {
   "cell_type": "code",
   "execution_count": null,
   "id": "3884d0e7-07f1-4ae4-9e04-315d875d2b7c",
   "metadata": {},
   "outputs": [],
   "source": [
    "def hvsr_export(filename, fields, ROW) :\n",
    "    with open(filename, 'w') as csvfile: \n",
    "        # creating a csv writer object \n",
    "        csvwriter = csv.writer(csvfile) \n",
    "\n",
    "        # writing the fields \n",
    "        csvwriter.writerow(fields) \n",
    "\n",
    "        # writing the data rows \n",
    "        csvwriter.writerows(ROW)"
   ]
  },
  {
   "cell_type": "code",
   "execution_count": null,
   "id": "40a4f8f9-898c-42e6-8c74-c6687a487219",
   "metadata": {},
   "outputs": [],
   "source": [
    "def hv_maximum(sensor, starttime, endtime, windowlenght, f_min, f_max) :\n",
    "    startprocess = time.process_time() \n",
    "    \n",
    "    distribution_mc = \"lognormal\"\n",
    "    \n",
    "    width = 0.1 #Width of cosine taper {0. - 1.}. Geopsy default of 0.05 is equal to 0.1 -> 0.1 is recommended\n",
    "    bandwidth = 30 # Konno and Ohmachi smoothing constant\n",
    "\n",
    "\n",
    "    # Boolean to control whether Butterworth filter is applied. \n",
    "    # Geopsy does not apply a bandpass filter.\n",
    "    filter_bool = False        \n",
    "    # Low-cut frequency for bandpass filter.\n",
    "    filter_flow = 0.1                   \n",
    "    # High-cut frequency for bandpass filter.\n",
    "    filter_fhigh = 30                   \n",
    "    # Filter order.\n",
    "    filter_order = 5\n",
    "    bp_filter = {\"flag\":filter_bool, \"flow\":filter_flow, \"fhigh\":filter_fhigh, \"order\":filter_order}\n",
    "\n",
    "    # Minimum frequency after resampling\n",
    "    resample_fmin = f_min  \n",
    "    # Maximum frequency after resampling\n",
    "    resample_fmax = f_max\n",
    "    # Number of frequencies after resampling\n",
    "    resample_fnum = 200\n",
    "    # Type of resampling {'log', 'linear'}\n",
    "    resample_type = 'log'\n",
    "\n",
    "    resampling = {\"minf\":resample_fmin, \"maxf\":resample_fmax, \"nf\":resample_fnum, \"res_type\":resample_type}\n",
    "\n",
    "    # Upper and lower frequency limits to restrict peak selection. To use the entire range use `None`.\n",
    "    peak_f_lower = f_min\n",
    "    peak_f_upper = f_max\n",
    "    # Geopsy's default is \"squared-average\" -> \"geometric-mean\" is recommended.\n",
    "    method = \"geometric-mean\"\n",
    "    # If method=\"single-azimuth\", set azimuth in degree clock-wise from north. If method!=\"single-azimuth\", value is ignored.\n",
    "    azimuth = 0\n",
    "\n",
    "    hv = sensor.hv(windowlenght, bp_filter, width, bandwidth, resampling, method, \n",
    "               f_low=peak_f_lower, f_high=peak_f_upper, azimuth=azimuth)\n",
    "    \n",
    "    #max_freq = hv.mc_peak_frq(distribution_mc)\n",
    "    \n",
    "    #max_amp = hv.mc_peak_amp(distribution_mc)\n",
    "    \n",
    "    meanamp = hv.mean_curve(distribution_mc)\n",
    "    \n",
    "    frq = hv.frq\n",
    "    \n",
    "    endprocess = time.process_time()\n",
    "    print('Processing accomplished in '+str(endprocess-startprocess)+' seconds')\n",
    "    \n",
    "    return meanamp, frq\n"
   ]
  },
  {
   "cell_type": "code",
   "execution_count": null,
   "id": "2a260827-08c5-476a-b65d-b19594d0fb61",
   "metadata": {
    "scrolled": true,
    "tags": []
   },
   "outputs": [],
   "source": [
    "windowlenght = 600 #second\n",
    "f_min = 0.3\n",
    "f_max = 10\n",
    "\n",
    "startdate = '2022.05.08'\n",
    "\n",
    "startdate = datetime.datetime.strptime(startdate, '%Y.%m.%d')\n",
    "startnumber = 3\n",
    "days = 31 - startnumber\n",
    "\n",
    "HVFREQALL = []\n",
    "HVAMPALL = []\n",
    "HVTIMEALL = []\n",
    "\n",
    "STATION = ['453020781.', '453020739.']\n",
    "\n",
    "\n",
    "\n",
    "for namestt in STATION :\n",
    "    plt.figure(figsize=(17,5))\n",
    "    HVFREQ = []\n",
    "    HVAMP = []\n",
    "    HVTIME = []\n",
    "    for day in range(days) : \n",
    "        date = startdate + datetime.timedelta(days = day)\n",
    "        datetimeStr = date.strftime(\"%Y.%m.%d.%H.%M.%S.000\")\n",
    "        root = 'D:\\\\Nodes_ablation_zone\\\\All_comp_DP_\\\\'\n",
    "        stts = {'e': root+namestt+str(startnumber+day)+'.'+datetimeStr+'.E.miniseed', \n",
    "                'n': root+namestt+str(startnumber+day)+'.'+datetimeStr+'.N.miniseed',\n",
    "                'z': root+namestt+str(startnumber+day)+'.'+datetimeStr+'.Z.miniseed'}\n",
    "\n",
    "        sensor = hvsrpy.Sensor3c.from_mseed(fnames_1c=stts)\n",
    "\n",
    "        trace = obspy.read(root+namestt+str(startnumber+day)+'.'+datetimeStr+'.E.miniseed')\n",
    "\n",
    "        timesize = 60*2 #minutes\n",
    "        timestep = timesize*60\n",
    "        nbr_timestep = int(24*60*60/timestep)\n",
    "\n",
    "        starttrace = trace[0].stats.starttime\n",
    "\n",
    "        print('Starting the time loop')\n",
    "\n",
    "        for i in range(nbr_timestep) :\n",
    "            starttime = starttrace+i*timestep\n",
    "            endtime = starttime+timestep\n",
    "            print([starttime, endtime])\n",
    "            meanamp, frq = hv_maximum(sensor, starttime, endtime, windowlenght, f_min, f_max)\n",
    "            #HVFREQ.append(maxfreq)\n",
    "            #HVAMP.append(maxamp)\n",
    "            #temptime = datetime.datetime.strptime(str(starttime+timestep/2), '%Y-%m-%dT%H:%M:%S.000000Z')\n",
    "            #HVTIME.append(temptime)\n",
    "            \n",
    "            name = str(namestt)+str(day)+'.'+str(i)+'.csv'\n",
    "            \n",
    "            starttime = datetime.datetime.strptime(str(starttime), '%Y-%m-%dT%H:%M:%S.000000Z')\n",
    "            endtime = datetime.datetime.strptime(str(endtime), '%Y-%m-%dT%H:%M:%S.000000Z')\n",
    "            \n",
    "            ContiHVTime = [np.repeat(starttime, len(frq)), np.repeat(endtime, len(frq))]\n",
    "            ContiHVFreq = [frq, frq]\n",
    "            ContiHVAmp = [meanamp, meanamp]\n",
    "\n",
    "            #plt.plot([endtime,endtime],[0.5,3], c='red', linestyle='--')\n",
    "            plt.contourf(ContiHVTime, ContiHVFreq,ContiHVAmp, 100)\n",
    "            \n",
    "            root = 'res_continuous_HVSR\\\\'\n",
    "            filename = root+name\n",
    "            headers = ['FREQ','AMP']\n",
    "            ROW = []\n",
    "            for j in range(len(frq)) :\n",
    "                ROW.append([frq[j],meanamp[j]])\n",
    "            hvsr_export(filename, headers, ROW)\n",
    "            \n",
    "            \n",
    "    #HVFREQALL.append(HVFREQ)\n",
    "    #HVAMPALL.append(HVAMP)\n",
    "    #HVTIMEALL.append(HVTIME)\n",
    "\n",
    "    plt.colorbar(label = \"Amplitude H/V\")\n",
    "    plt.title('Station : '+str(namestt) )\n",
    "    plt.xlabel('Time')\n",
    "    plt.ylabel('Frequency f0 (Hz)')\n",
    "    plt.savefig('plot_ice_thick/continuous_HVintensity_'+str(namestt)+'.png')    \n",
    "\n",
    "    plt.show()"
   ]
  },
  {
   "cell_type": "code",
   "execution_count": null,
   "id": "c5a4c7bf-c25d-4d95-b0a9-3ff265268182",
   "metadata": {
    "scrolled": true,
    "tags": []
   },
   "outputs": [],
   "source": [
    "root = 'res_continuous_HVSR\\\\'\n",
    "namestt = '453020739.'\n",
    "\n",
    "fig = plt.figure(figsize=(17,5))\n",
    "\n",
    "for day in range(28) :\n",
    "    for i in range(12) :\n",
    "        filename = str(namestt)+str(day)+'.'+str(i)+'.csv'\n",
    "        filepath = root+filename\n",
    "        line = 0\n",
    "        tmpfrq = []\n",
    "        tmpamp = []\n",
    "        with open(filepath) as file :\n",
    "                readcsv = csv.reader(file, delimiter=',')\n",
    "                for row in readcsv :\n",
    "                    if line > 0 and row != [] :\n",
    "                        tmpfrq.append(float(row[0]))\n",
    "                        tmpamp.append(float(row[1]))\n",
    "                    line += 1\n",
    "                    \n",
    "        tmpfrq = normalize(tmpfrq)\n",
    "        tmpamp = normalize(tmpamp)\n",
    "        \n",
    "        ContiHVTime = [np.repeat(day+(i/12), len(tmpfrq)), np.repeat(day+((i+1)/12), len(tmpfrq))]\n",
    "        ContiHVFreq = [tmpfrq, tmpfrq]\n",
    "        ContiHVAmp = [tmpamp, tmpamp]\n",
    "        plt.contourf(ContiHVTime, ContiHVFreq,ContiHVAmp, 100)\n",
    "    print('Jour : '+str(day))    \n",
    "plt.colorbar(label = \"Amplitude H/V\")\n",
    "plt.title('Station : '+str(namestt) )\n",
    "plt.xlabel('Time')\n",
    "plt.ylabel('Frequency f0 (Hz)')\n",
    "plt.savefig('plot_ice_thick/continuous_HVintensity_'+str(namestt)+'.png')    \n",
    "\n",
    "plt.show()"
   ]
  },
  {
   "cell_type": "code",
   "execution_count": null,
   "id": "3d94354c-20f6-40aa-94b9-f2b09466853e",
   "metadata": {},
   "outputs": [],
   "source": [
    "plt.figure(figsize=(17, 5), dpi=300)\n",
    "plt.plot(HVTIME, HVFREQ)\n",
    "plt.ylabel('H/V f0')\n",
    "plt.show()\n",
    "plt.figure(figsize=(17, 5), dpi=300)\n",
    "plt.plot(HVTIME,HVAMP)\n",
    "#plt.ylim(0.96,0.975)\n",
    "plt.xlabel('Time')\n",
    "plt.ylabel('H/V Amplitude')\n",
    "plt.show()"
   ]
  },
  {
   "cell_type": "code",
   "execution_count": null,
   "id": "7127bfe1-004f-49f4-ae99-a96637930c5a",
   "metadata": {},
   "outputs": [],
   "source": [
    "distribution_mc = \"lognormal\"\n",
    "\n",
    "for amp in hv.amp[hv.valid_window_indices] :\n",
    "    plt.plot(hv.frq, amp, c='grey')\n",
    "\n",
    "\n",
    "plt.plot(hv.frq, hv.mean_curve(distribution_mc))\n",
    "plt.plot(hv.frq, hv.nstd_curve(-1, distribution_mc))\n",
    "plt.plot(hv.frq, hv.nstd_curve(+1, distribution_mc))\n",
    "plt.xlim(0.5,3)\n",
    "plt.ylim(0,2)\n",
    "plt.show()"
   ]
  },
  {
   "cell_type": "code",
   "execution_count": null,
   "id": "5247c885-ef4b-4e0f-9369-9825a1a53cc2",
   "metadata": {},
   "outputs": [],
   "source": [
    "import sigpropy\n"
   ]
  },
  {
   "cell_type": "code",
   "execution_count": 77,
   "id": "f7804c94-47b0-4f15-ad69-d8c49af1e347",
   "metadata": {},
   "outputs": [],
   "source": [
    "rootVatna = 'D:\\\\Nodes_on_Vatna\\\\All_comp_DP_\\\\'\n",
    "\n",
    "traceE = obspy.read(rootVatna+'453020732.2.2022.05.28.00.00.00.000.E.miniseed')\n",
    "traceN = obspy.read(rootVatna+'453020732.2.2022.05.28.00.00.00.000.N.miniseed')\n",
    "traceZ = obspy.read(rootVatna+'453020732.2.2022.05.28.00.00.00.000.Z.miniseed')\n",
    "\n",
    "dt = traceZ[0].stats.delta\n",
    "\n",
    "traceE = sigpropy.TimeSeries(traceE[0].data[0:150000], dt)\n",
    "traceN = sigpropy.TimeSeries(traceN[0].data[0:150000], dt)\n",
    "traceZ = sigpropy.TimeSeries(traceZ[0].data[0:150000], dt)"
   ]
  },
  {
   "cell_type": "code",
   "execution_count": 80,
   "id": "252223e6-55e6-460c-ba71-d20d43f83022",
   "metadata": {},
   "outputs": [
    {
     "data": {
      "text/plain": [
       "150000"
      ]
     },
     "execution_count": 80,
     "metadata": {},
     "output_type": "execute_result"
    }
   ],
   "source": [
    "len(traceE.amplitude)"
   ]
  },
  {
   "cell_type": "code",
   "execution_count": 75,
   "id": "954d9f43-5926-48b7-801b-daf9afdbf8bf",
   "metadata": {},
   "outputs": [],
   "source": [
    "sensor = hvsrpy.Sensor3c(traceN,traceE,traceZ)"
   ]
  },
  {
   "cell_type": "code",
   "execution_count": 73,
   "id": "e2c4ba26-82f2-48d0-9cc5-700f21b67cc4",
   "metadata": {},
   "outputs": [
    {
     "data": {
      "text/plain": [
       "150000.0"
      ]
     },
     "execution_count": 73,
     "metadata": {},
     "output_type": "execute_result"
    }
   ],
   "source": [
    "10*60/dt"
   ]
  },
  {
   "cell_type": "code",
   "execution_count": null,
   "id": "9518fd57-5b8b-4036-86a3-d4fa42c54cbe",
   "metadata": {},
   "outputs": [],
   "source": []
  }
 ],
 "metadata": {
  "kernelspec": {
   "display_name": "Python 3 (ipykernel)",
   "language": "python",
   "name": "python3"
  },
  "language_info": {
   "codemirror_mode": {
    "name": "ipython",
    "version": 3
   },
   "file_extension": ".py",
   "mimetype": "text/x-python",
   "name": "python",
   "nbconvert_exporter": "python",
   "pygments_lexer": "ipython3",
   "version": "3.9.13"
  }
 },
 "nbformat": 4,
 "nbformat_minor": 5
}
