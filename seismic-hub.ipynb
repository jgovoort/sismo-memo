{
 "cells": [
  {
   "cell_type": "markdown",
   "id": "3ef1b360-62d4-4644-8fbf-388afcd6adeb",
   "metadata": {},
   "source": [
    "## Connect all the seismic station with GDAL (Only python < 3.8)"
   ]
  },
  {
   "cell_type": "code",
   "execution_count": 1,
   "id": "1e3a5256-4d64-422c-b589-665e423f78a8",
   "metadata": {},
   "outputs": [],
   "source": [
    "from osgeo import gdal, ogr, osr\n",
    "import csv"
   ]
  },
  {
   "cell_type": "code",
   "execution_count": 2,
   "id": "8c4a3792-dd1f-4ae6-983c-63b8f04f3fe1",
   "metadata": {},
   "outputs": [],
   "source": [
    "root = 'D:\\\\MEMOIRE\\\\SIG\\\\Stations\\\\Julien QGIS\\\\'\n",
    "rootcsv = 'D:\\\\MEMOIRE\\\\MSNoise\\\\ablation\\\\DTT\\\\02\\\\030_DAYS\\\\ZZ\\\\'"
   ]
  },
  {
   "cell_type": "code",
   "execution_count": 3,
   "id": "c769d093-a950-4a78-8f0a-3988104b3e42",
   "metadata": {},
   "outputs": [],
   "source": [
    "dtt_day = '2021-05-20'"
   ]
  },
  {
   "cell_type": "code",
   "execution_count": 4,
   "id": "37d1948f-bdfd-4376-b960-2e10ffe30693",
   "metadata": {},
   "outputs": [
    {
     "name": "stdout",
     "output_type": "stream",
     "text": [
      "['VI_BJK_VI_GRF', 'VI_DJK_VI_GRF', 'VI_GRF_VI_HUS', 'VI_GRF_VI_JOK', 'VI_GRF_VI_KSK', 'VI_GRF_VI_URH', 'VI_GRF_VI_VOT', 'ALL', 'VI_BJK_VI_DJK', 'VI_BJK_VI_HUS', 'VI_BJK_VI_JOK', 'VI_BJK_VI_KSK', 'VI_BJK_VI_URH', 'VI_BJK_VI_VOT', 'VI_DJK_VI_HUS', 'VI_DJK_VI_JOK', 'VI_DJK_VI_KSK', 'VI_DJK_VI_URH', 'VI_DJK_VI_VOT', 'VI_HUS_VI_JOK', 'VI_HUS_VI_KSK', 'VI_HUS_VI_URH', 'VI_HUS_VI_VOT', 'VI_JOK_VI_KSK', 'VI_JOK_VI_URH', 'VI_JOK_VI_VOT', 'VI_KSK_VI_URH', 'VI_KSK_VI_VOT', 'VI_URH_VI_VOT'] [-0.0378541446606, -0.10270940444900001, -0.13502033528000001, -0.12954244699099998, -0.0332787480377, -0.108431184681, -0.07122066216259999, -0.0681862635504, -0.18818216670100002, -0.127729123656, -0.061558883268, -0.095814921422, -0.0409595136154, -0.0221711071452, -0.174361017857, 0.0608817956526, -0.0605341287273, -0.114267993404, -0.178184610381, -0.15881788059500002, -0.106279922629, -0.0648953530049, -0.0855686394319, -0.07591377335260001, 0.0744941857937, 0.06430238975989999, -0.19881696307399999, -0.136307719272, -0.162821432095]\n"
     ]
    }
   ],
   "source": [
    "PAIRDTT = []\n",
    "DTT = []\n",
    "with open(rootcsv+dtt_day+'.txt') as file :\n",
    "    readcsv = csv.reader(file, delimiter=',')\n",
    "    line = 0\n",
    "    for row in readcsv :\n",
    "        if line == 0 :\n",
    "            p = row.index('Pairs')\n",
    "            m = row.index('M0')\n",
    "        else :\n",
    "            PAIRDTT.append(row[p])\n",
    "            DTT.append(float(row[m])*100)            \n",
    "        line += 1\n",
    "print(PAIRDTT,DTT)"
   ]
  },
  {
   "cell_type": "code",
   "execution_count": 5,
   "id": "078fb8a6-d2e6-4af3-b022-921d58988d3f",
   "metadata": {},
   "outputs": [],
   "source": [
    "NET = 'VI'\n",
    "STA = ['BJK','DJK','HUS','VOT','JOK','KSK','URH','GRF']\n",
    "STA.sort()"
   ]
  },
  {
   "cell_type": "code",
   "execution_count": 6,
   "id": "1ab68a46-4bc6-4e40-8f3f-3c010a49bd1d",
   "metadata": {},
   "outputs": [],
   "source": [
    "metadata = []\n",
    "with open(root+'stations.txt') as file :\n",
    "    readcsv = csv.reader(file, delimiter='|')\n",
    "    line = 0\n",
    "    for row in readcsv :\n",
    "        if line == 0 :\n",
    "            stt_idx = row.index('Station')\n",
    "            lat_idx = row.index('Latitude')\n",
    "            long_idx = row.index('Longitude')\n",
    "        elif row[stt_idx].upper() in STA :\n",
    "            metadata.append([row[stt_idx].upper(),row[lat_idx],row[long_idx]])\n",
    "            \n",
    "        line += 1"
   ]
  },
  {
   "cell_type": "code",
   "execution_count": 7,
   "id": "26c4540a-6ecb-4b74-93b7-fb947223ecfa",
   "metadata": {},
   "outputs": [
    {
     "name": "stdout",
     "output_type": "stream",
     "text": [
      "[['BJK', '64.46911', '-16.75205'], ['DJK', '64.50386', '-17.23485'], ['GRF', '64.40656', '-17.26713'], ['HUS', '64.2955', '-17.6565'], ['JOK', '64.31529', '-18.22546'], ['KSK', '64.1613', '-16.4737'], ['URH', '64.820373', '-17.147123'], ['VOT', '64.27081', '-17.18254']]\n"
     ]
    }
   ],
   "source": [
    "print(metadata)"
   ]
  },
  {
   "cell_type": "code",
   "execution_count": 8,
   "id": "0ea99e4a-faf0-4c19-b4d2-b398d806d799",
   "metadata": {},
   "outputs": [
    {
     "name": "stdout",
     "output_type": "stream",
     "text": [
      "LINESTRING (1116651.43937912 637392.696988746 0,1188804.01084985 652655.740953707 0,1226730.36252036 634155.081602239 0,1281307.30760719 636467.664021172 0)\n"
     ]
    }
   ],
   "source": [
    "line = ogr.Geometry(ogr.wkbLineString)\n",
    "line.AddPoint(1116651.439379124, 637392.6969887456)\n",
    "line.AddPoint(1188804.0108498496, 652655.7409537067)\n",
    "line.AddPoint(1226730.3625203592, 634155.0816022386)\n",
    "line.AddPoint(1281307.30760719, 636467.6640211721)\n",
    "print (line.ExportToWkt())"
   ]
  },
  {
   "cell_type": "code",
   "execution_count": 10,
   "id": "185f538b-66be-4027-871c-ff517aae2bab",
   "metadata": {},
   "outputs": [],
   "source": [
    "import osgeo.ogr as ogr\n",
    "import osgeo.osr as osr\n",
    "\n",
    "# set up the shapefile driver\n",
    "driver = ogr.GetDriverByName(\"ESRI Shapefile\")\n",
    "\n",
    "# create the data source\n",
    "data_source = driver.CreateDataSource(\"D:/HUB_dtt.shp\")\n",
    "\n",
    "# create the spatial reference, WGS84\n",
    "srs = osr.SpatialReference()\n",
    "srs.ImportFromEPSG(4326)\n",
    "\n",
    "# create the layer\n",
    "layer = data_source.CreateLayer(\"HUB\", srs, ogr.wkbLineString)\n",
    "\n",
    "# Add the fields we're interested in\n",
    "field_name = ogr.FieldDefn(\"Name\", ogr.OFTString)\n",
    "field_name.SetWidth(24)\n",
    "layer.CreateField(field_name)\n",
    "field_dtt = ogr.FieldDefn(\"dtt\", ogr.OFTReal)\n",
    "layer.CreateField(field_dtt)\n",
    "\n",
    "\n",
    "# Process the text file and add the attributes and features to the shapefile\n",
    "for i in range(len(STA)-1) :\n",
    "    for j in range(i+1,len(STA)):\n",
    "        pair = \"%s_%s_%s_%s\" % (NET,metadata[i][0],NET,metadata[j][0])\n",
    "        if pair in PAIRDTT :   \n",
    "          # create the feature\n",
    "            feature = ogr.Feature(layer.GetLayerDefn())\n",
    "          # Set the attributes using the values from the delimited text file\n",
    "            feature.SetField(\"Name\", pair)\n",
    "            feature.SetField(\"dtt\",DTT[PAIRDTT.index(pair)]) \n",
    "\n",
    "          # create the WKT for the feature using Python string formatting\n",
    "            wkt = \"LINESTRING(%f %f 0,%f %f 0)\" %  (float(metadata[i][2]) , float(metadata[i][1]), float(metadata[j][2]) , float(metadata[j][1]))\n",
    "\n",
    "          # Create the point from the Well Known Txt\n",
    "            line = ogr.CreateGeometryFromWkt(wkt)\n",
    "\n",
    "          # Set the feature geometry using the point\n",
    "            feature.SetGeometry(line)\n",
    "          # Create the feature in the layer (shapefile)\n",
    "            layer.CreateFeature(feature)\n",
    "          # Dereference the feature\n",
    "            feature = None\n",
    "\n",
    "# Save and close the data source\n",
    "data_source = None"
   ]
  },
  {
   "cell_type": "code",
   "execution_count": null,
   "id": "2bb5e529-7bd5-4406-8d49-d67204577ed7",
   "metadata": {},
   "outputs": [],
   "source": []
  }
 ],
 "metadata": {
  "kernelspec": {
   "display_name": "Python 3 (ipykernel)",
   "language": "python",
   "name": "python3"
  },
  "language_info": {
   "codemirror_mode": {
    "name": "ipython",
    "version": 3
   },
   "file_extension": ".py",
   "mimetype": "text/x-python",
   "name": "python",
   "nbconvert_exporter": "python",
   "pygments_lexer": "ipython3",
   "version": "3.9.13"
  }
 },
 "nbformat": 4,
 "nbformat_minor": 5
}
