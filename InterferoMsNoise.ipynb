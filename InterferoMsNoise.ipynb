{
 "cells": [
  {
   "cell_type": "code",
   "execution_count": null,
   "id": "4ed49b33-f8b7-4c3b-8f1b-7d11112a7ab0",
   "metadata": {},
   "outputs": [],
   "source": [
    "import msnoise.api as ms\n",
    "import numpy as np\n",
    "import matplotlib.pyplot as plt"
   ]
  },
  {
   "cell_type": "code",
   "execution_count": 2,
   "id": "0bc6c739-44d8-412b-9894-c026795b36ab",
   "metadata": {},
   "outputs": [],
   "source": [
    "path_ini = 'D:\\\\MEMOIRE\\\\MSNoise\\\\ablation\\\\db.ini'\n",
    "database = ms.connect(inifile=path_ini)"
   ]
  },
  {
   "cell_type": "code",
   "execution_count": 3,
   "id": "9e3b7bfb-9a6b-41f0-9612-944e86fab8a4",
   "metadata": {},
   "outputs": [],
   "source": [
    "NET = ms.get_networks(database)\n",
    "STA = ['BJK','DJK','HUS','VOT','JOK','KSK','URH']"
   ]
  },
  {
   "cell_type": "code",
   "execution_count": 4,
   "id": "985048df-8ae1-40d2-97d3-70ccd9479382",
   "metadata": {},
   "outputs": [],
   "source": [
    "for net in NET :\n",
    "    for sta in STA :\n",
    "        ms.mark_data_availability(database, net, sta, 'N')"
   ]
  },
  {
   "cell_type": "code",
   "execution_count": 4,
   "id": "0eb9b13a-8261-4733-adea-0cec382ed778",
   "metadata": {},
   "outputs": [],
   "source": [
    "ms.update_config(database,'startdate', '2019-01-01')"
   ]
  },
  {
   "cell_type": "code",
   "execution_count": 7,
   "id": "77241857-c9a4-4a4e-93ea-a9ebc08eeaf0",
   "metadata": {},
   "outputs": [
    {
     "data": {
      "text/plain": [
       "['SS']"
      ]
     },
     "execution_count": 7,
     "metadata": {},
     "output_type": "execute_result"
    }
   ],
   "source": [
    "ms.get_networks(database)"
   ]
  },
  {
   "cell_type": "code",
   "execution_count": 6,
   "id": "0d118d3f-96b4-4824-8e98-fd4bfca21668",
   "metadata": {},
   "outputs": [],
   "source": [
    "ms.update_filter(database,ref=2,low=1.0,high=2.0,mwcs_low=1.0,mwcs_high=2.0, mwcs_wlen=120, \n",
    "                     mwcs_step=60 , rms_threshold=0, used=True)"
   ]
  },
  {
   "cell_type": "code",
   "execution_count": 15,
   "id": "af46a32a-9223-45c5-8a28-4c1a6f4712e4",
   "metadata": {},
   "outputs": [
    {
     "data": {
      "text/plain": [
       "[<msnoise.msnoise_table_def.declare_tables.<locals>.Filter at 0x1fe06d1ad60>,\n",
       " <msnoise.msnoise_table_def.declare_tables.<locals>.Filter at 0x1fe06d1a910>]"
      ]
     },
     "execution_count": 15,
     "metadata": {},
     "output_type": "execute_result"
    }
   ],
   "source": [
    "ms.get_filters(database, all=True)"
   ]
  },
  {
   "cell_type": "code",
   "execution_count": 18,
   "id": "4090fc3e-80ad-4900-9dd7-0389b9765304",
   "metadata": {},
   "outputs": [],
   "source": [
    "stt = ms.get_stations(database, all=True)"
   ]
  },
  {
   "cell_type": "code",
   "execution_count": 20,
   "id": "70d1d565-9eca-4910-87ff-ba1786f7ea7d",
   "metadata": {},
   "outputs": [
    {
     "data": {
      "text/plain": [
       "19.366583213567928"
      ]
     },
     "execution_count": 20,
     "metadata": {},
     "output_type": "execute_result"
    }
   ],
   "source": [
    "ms.get_interstation_distance(stt[1],stt[2],coordinates='DEG')"
   ]
  }
 ],
 "metadata": {
  "kernelspec": {
   "display_name": "Python 3 (ipykernel)",
   "language": "python",
   "name": "python3"
  },
  "language_info": {
   "codemirror_mode": {
    "name": "ipython",
    "version": 3
   },
   "file_extension": ".py",
   "mimetype": "text/x-python",
   "name": "python",
   "nbconvert_exporter": "python",
   "pygments_lexer": "ipython3",
   "version": "3.7.15"
  }
 },
 "nbformat": 4,
 "nbformat_minor": 5
}
