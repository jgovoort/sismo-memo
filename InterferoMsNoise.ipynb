{
 "cells": [
  {
   "cell_type": "code",
   "execution_count": 2,
   "id": "4ed49b33-f8b7-4c3b-8f1b-7d11112a7ab0",
   "metadata": {},
   "outputs": [],
   "source": [
    "import msnoise.api as ms\n",
    "import numpy as np\n",
    "import matplotlib.pyplot as plt"
   ]
  },
  {
   "cell_type": "code",
   "execution_count": 6,
   "id": "0bc6c739-44d8-412b-9894-c026795b36ab",
   "metadata": {},
   "outputs": [],
   "source": [
    "path_ini = 'D:\\\\MEMOIRE\\\\MSNoise\\\\ablation\\\\db.ini'\n",
    "database = ms.connect(inifile=path_ini)"
   ]
  },
  {
   "cell_type": "code",
   "execution_count": 7,
   "id": "88141f58-6ed7-4a97-b457-508c706dcc9d",
   "metadata": {},
   "outputs": [
    {
     "data": {
      "text/plain": [
       "IniFile(tech=2, hostname='127.0.0.1', database='ablation', username='msnoise', password='JulGov3!', prefix='')"
      ]
     },
     "execution_count": 7,
     "metadata": {},
     "output_type": "execute_result"
    }
   ],
   "source": [
    "ms.read_db_inifile(inifile=path_ini)"
   ]
  },
  {
   "cell_type": "code",
   "execution_count": 17,
   "id": "0eb9b13a-8261-4733-adea-0cec382ed778",
   "metadata": {},
   "outputs": [],
   "source": [
    "filt = ms.get_stations(database)"
   ]
  },
  {
   "cell_type": "code",
   "execution_count": null,
   "id": "0d118d3f-96b4-4824-8e98-fd4bfca21668",
   "metadata": {},
   "outputs": [],
   "source": []
  }
 ],
 "metadata": {
  "kernelspec": {
   "display_name": "Python 3 (ipykernel)",
   "language": "python",
   "name": "python3"
  },
  "language_info": {
   "codemirror_mode": {
    "name": "ipython",
    "version": 3
   },
   "file_extension": ".py",
   "mimetype": "text/x-python",
   "name": "python",
   "nbconvert_exporter": "python",
   "pygments_lexer": "ipython3",
   "version": "3.9.13"
  }
 },
 "nbformat": 4,
 "nbformat_minor": 5
}
